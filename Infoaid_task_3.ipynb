{
 "cells": [
  {
   "cell_type": "code",
   "execution_count": 3,
   "id": "b8bcd780-aabb-445d-b37b-be089f8c8be3",
   "metadata": {},
   "outputs": [],
   "source": [
    "import pandas as pd\n",
    "\n",
    "# Load the dataset\n",
    "dataset = pd.read_csv(\"D:/DOWNLOADS/creditcard.csv\")\n",
    "\n",
    "# Pre-processing: Scale features, handle missing values, and outliers\n",
    "from sklearn.preprocessing import StandardScaler\n",
    "\n",
    "scaler = StandardScaler()\n",
    "scaled_features = scaler.fit_transform(dataset.drop(\"Class\", axis=1))  # Exclude the target variable\n",
    "scaled_df = pd.DataFrame(scaled_features, columns=dataset.columns[:-1])  # Create a new DataFrame with scaled features\n",
    "scaled_df[\"Class\"] = dataset[\"Class\"]  # Add the target variable back\n",
    "\n",
    "# Handle missing values and outliers if necessary\n",
    "# You can use techniques like imputation or outlier detection and removal here\n"
   ]
  },
  {
   "cell_type": "code",
   "execution_count": 4,
   "id": "5436e65e-f112-4057-8cb2-7c37cb0615fe",
   "metadata": {},
   "outputs": [],
   "source": [
    "from sklearn.model_selection import train_test_split\n",
    "\n",
    "X = scaled_df.drop(\"Class\", axis=1)\n",
    "y = scaled_df[\"Class\"]\n",
    "\n",
    "X_train, X_test, y_train, y_test = train_test_split(X, y, test_size=0.2, random_state=42)\n"
   ]
  },
  {
   "cell_type": "code",
   "execution_count": 5,
   "id": "5e15573c-f873-4556-a9c0-8db89b157d0f",
   "metadata": {},
   "outputs": [
    {
     "data": {
      "text/html": [
       "<style>#sk-container-id-1 {color: black;}#sk-container-id-1 pre{padding: 0;}#sk-container-id-1 div.sk-toggleable {background-color: white;}#sk-container-id-1 label.sk-toggleable__label {cursor: pointer;display: block;width: 100%;margin-bottom: 0;padding: 0.3em;box-sizing: border-box;text-align: center;}#sk-container-id-1 label.sk-toggleable__label-arrow:before {content: \"▸\";float: left;margin-right: 0.25em;color: #696969;}#sk-container-id-1 label.sk-toggleable__label-arrow:hover:before {color: black;}#sk-container-id-1 div.sk-estimator:hover label.sk-toggleable__label-arrow:before {color: black;}#sk-container-id-1 div.sk-toggleable__content {max-height: 0;max-width: 0;overflow: hidden;text-align: left;background-color: #f0f8ff;}#sk-container-id-1 div.sk-toggleable__content pre {margin: 0.2em;color: black;border-radius: 0.25em;background-color: #f0f8ff;}#sk-container-id-1 input.sk-toggleable__control:checked~div.sk-toggleable__content {max-height: 200px;max-width: 100%;overflow: auto;}#sk-container-id-1 input.sk-toggleable__control:checked~label.sk-toggleable__label-arrow:before {content: \"▾\";}#sk-container-id-1 div.sk-estimator input.sk-toggleable__control:checked~label.sk-toggleable__label {background-color: #d4ebff;}#sk-container-id-1 div.sk-label input.sk-toggleable__control:checked~label.sk-toggleable__label {background-color: #d4ebff;}#sk-container-id-1 input.sk-hidden--visually {border: 0;clip: rect(1px 1px 1px 1px);clip: rect(1px, 1px, 1px, 1px);height: 1px;margin: -1px;overflow: hidden;padding: 0;position: absolute;width: 1px;}#sk-container-id-1 div.sk-estimator {font-family: monospace;background-color: #f0f8ff;border: 1px dotted black;border-radius: 0.25em;box-sizing: border-box;margin-bottom: 0.5em;}#sk-container-id-1 div.sk-estimator:hover {background-color: #d4ebff;}#sk-container-id-1 div.sk-parallel-item::after {content: \"\";width: 100%;border-bottom: 1px solid gray;flex-grow: 1;}#sk-container-id-1 div.sk-label:hover label.sk-toggleable__label {background-color: #d4ebff;}#sk-container-id-1 div.sk-serial::before {content: \"\";position: absolute;border-left: 1px solid gray;box-sizing: border-box;top: 0;bottom: 0;left: 50%;z-index: 0;}#sk-container-id-1 div.sk-serial {display: flex;flex-direction: column;align-items: center;background-color: white;padding-right: 0.2em;padding-left: 0.2em;position: relative;}#sk-container-id-1 div.sk-item {position: relative;z-index: 1;}#sk-container-id-1 div.sk-parallel {display: flex;align-items: stretch;justify-content: center;background-color: white;position: relative;}#sk-container-id-1 div.sk-item::before, #sk-container-id-1 div.sk-parallel-item::before {content: \"\";position: absolute;border-left: 1px solid gray;box-sizing: border-box;top: 0;bottom: 0;left: 50%;z-index: -1;}#sk-container-id-1 div.sk-parallel-item {display: flex;flex-direction: column;z-index: 1;position: relative;background-color: white;}#sk-container-id-1 div.sk-parallel-item:first-child::after {align-self: flex-end;width: 50%;}#sk-container-id-1 div.sk-parallel-item:last-child::after {align-self: flex-start;width: 50%;}#sk-container-id-1 div.sk-parallel-item:only-child::after {width: 0;}#sk-container-id-1 div.sk-dashed-wrapped {border: 1px dashed gray;margin: 0 0.4em 0.5em 0.4em;box-sizing: border-box;padding-bottom: 0.4em;background-color: white;}#sk-container-id-1 div.sk-label label {font-family: monospace;font-weight: bold;display: inline-block;line-height: 1.2em;}#sk-container-id-1 div.sk-label-container {text-align: center;}#sk-container-id-1 div.sk-container {/* jupyter's `normalize.less` sets `[hidden] { display: none; }` but bootstrap.min.css set `[hidden] { display: none !important; }` so we also need the `!important` here to be able to override the default hidden behavior on the sphinx rendered scikit-learn.org. See: https://github.com/scikit-learn/scikit-learn/issues/21755 */display: inline-block !important;position: relative;}#sk-container-id-1 div.sk-text-repr-fallback {display: none;}</style><div id=\"sk-container-id-1\" class=\"sk-top-container\"><div class=\"sk-text-repr-fallback\"><pre>LogisticRegression()</pre><b>In a Jupyter environment, please rerun this cell to show the HTML representation or trust the notebook. <br />On GitHub, the HTML representation is unable to render, please try loading this page with nbviewer.org.</b></div><div class=\"sk-container\" hidden><div class=\"sk-item\"><div class=\"sk-estimator sk-toggleable\"><input class=\"sk-toggleable__control sk-hidden--visually\" id=\"sk-estimator-id-1\" type=\"checkbox\" checked><label for=\"sk-estimator-id-1\" class=\"sk-toggleable__label sk-toggleable__label-arrow\">LogisticRegression</label><div class=\"sk-toggleable__content\"><pre>LogisticRegression()</pre></div></div></div></div></div>"
      ],
      "text/plain": [
       "LogisticRegression()"
      ]
     },
     "execution_count": 5,
     "metadata": {},
     "output_type": "execute_result"
    }
   ],
   "source": [
    "from sklearn.linear_model import LogisticRegression\n",
    "\n",
    "# Initialize the model\n",
    "model = LogisticRegression()\n",
    "\n",
    "# Train the model\n",
    "model.fit(X_train, y_train)\n"
   ]
  },
  {
   "cell_type": "code",
   "execution_count": 6,
   "id": "be94218c-d2d1-4a8e-99e4-f04270d34501",
   "metadata": {},
   "outputs": [
    {
     "name": "stdout",
     "output_type": "stream",
     "text": [
      "Accuracy: 0.9991\n",
      "Precision: 0.8636\n",
      "Recall: 0.5816\n",
      "F1-Score: 0.6951\n"
     ]
    }
   ],
   "source": [
    "from sklearn.metrics import accuracy_score, precision_score, recall_score, f1_score\n",
    "\n",
    "# Predict on the test set\n",
    "y_pred = model.predict(X_test)\n",
    "\n",
    "# Evaluate metrics\n",
    "accuracy = accuracy_score(y_test, y_pred)\n",
    "precision = precision_score(y_test, y_pred)\n",
    "recall = recall_score(y_test, y_pred)\n",
    "f1 = f1_score(y_test, y_pred)\n",
    "\n",
    "print(f\"Accuracy: {accuracy:.4f}\")\n",
    "print(f\"Precision: {precision:.4f}\")\n",
    "print(f\"Recall: {recall:.4f}\")\n",
    "print(f\"F1-Score: {f1:.4f}\")\n"
   ]
  },
  {
   "cell_type": "code",
   "execution_count": 11,
   "id": "7903ca7f-a7e6-4232-908e-f764a8807d7c",
   "metadata": {},
   "outputs": [
    {
     "name": "stdout",
     "output_type": "stream",
     "text": [
      "Predicted Class: [0]\n"
     ]
    }
   ],
   "source": [
    "# Example new transaction with actual feature values\n",
    "new_transaction_values = [\n",
    "    -1.359807134, -0.072781173, 2.536346738, 1.378155224, -0.33832077, 0.462387778, 0.239598554,\n",
    "    0.098697901, 0.36378697, 0.090794172, -0.551599533, -0.617800856, -0.991389847, -0.311169354,\n",
    "    1.468176972, -0.470400525, 0.207971242, 0.02579058, 0.40399296, 0.251412098, -0.018306778,\n",
    "    0.277837576, -0.11047391, 0.066928075, 0.128539358, -0.189114844, 0.133558377, -0.021053053, \n",
    "    149.62, 0  # Adding the \"Time\" and \"Class\" values\n",
    "]\n",
    "\n",
    "# Adding the \"Time\" column name to the feature_columns list\n",
    "feature_columns_with_time = ['Time'] + feature_columns\n",
    "\n",
    "# Creating a new transaction dataframe\n",
    "new_transaction_df = pd.DataFrame([new_transaction_values], columns=feature_columns_with_time)\n",
    "\n",
    "# Predicting the class using the trained model\n",
    "predicted_class = model.predict(new_transaction_df)\n",
    "print(\"Predicted Class:\", predicted_class)\n"
   ]
  },
  {
   "cell_type": "code",
   "execution_count": 13,
   "id": "15447e99-983c-4c5c-b52e-76aba7e412b5",
   "metadata": {},
   "outputs": [
    {
     "name": "stdout",
     "output_type": "stream",
     "text": [
      "            Time        V1        V2        V3        V4        V5        V6  \\\n",
      "223361  1.022112  0.998136 -0.230595 -0.207758  0.233183 -0.369046 -0.064700   \n",
      "165061  0.470837 -0.204716 -0.379665  1.025778 -1.425115 -0.078079  0.126334   \n",
      "238186  1.152945  0.037019  0.496919 -0.370223 -0.501387  0.782760 -0.269788   \n",
      "150562 -0.024087 -0.273165  0.614415  1.154609  1.955969  0.362319  0.752303   \n",
      "138452 -0.256040 -2.055932  1.149012 -0.283453 -0.020886 -0.620000 -0.360593   \n",
      "...          ...       ...       ...       ...       ...       ...       ...   \n",
      "119879 -0.404225  0.599118  0.061038  0.323503  0.326017 -0.214728 -0.160001   \n",
      "259178  1.351627 -0.396173  0.087218 -0.753436 -0.876575  1.405808  2.936401   \n",
      "131932 -0.316266 -0.074850  0.601310  1.005500  0.343093  0.253077 -0.611887   \n",
      "146867 -0.144939 -1.505412  1.426053 -1.662785 -2.683097  1.352153  2.047406   \n",
      "121958 -0.388158  0.629591 -0.475291  0.255092 -0.493379 -0.749156 -0.478153   \n",
      "\n",
      "              V7        V8        V9  ...       V20       V21       V22  \\\n",
      "223361 -0.507624  0.030137  0.959887  ... -0.162649  0.324289  1.334304   \n",
      "165061  0.014517 -0.336266  0.036753  ... -0.610140 -0.208959  0.581097   \n",
      "238186  0.636863  0.098192 -0.119490  ...  0.015860 -0.428357 -1.202920   \n",
      "150562  0.685400 -0.068090  0.338220  ... -0.329160  0.086485  0.611038   \n",
      "138452 -0.352142  1.099978  0.487920  ... -0.015981 -0.654427 -0.317444   \n",
      "...          ...       ...       ...  ...       ...       ...       ...   \n",
      "119879 -0.133583  0.099821 -0.103946  ... -0.204344 -0.253262 -0.791350   \n",
      "259178 -0.376776  1.139213  0.364724  ... -0.383604  0.050479 -0.026974   \n",
      "131932  0.870300 -0.330988 -0.447196  ...  0.009281  0.071678  0.487927   \n",
      "146867 -0.381353  1.856688  0.528112  ...  0.541423 -0.453028 -1.443453   \n",
      "121958 -0.406089 -0.157456 -0.682338  ...  0.438088  0.037622 -0.323167   \n",
      "\n",
      "             V23       V24       V25       V26       V27       V28    Amount  \n",
      "223361  0.085207 -0.460007 -0.086325 -0.449541  0.111905 -0.142827 -0.313289  \n",
      "165061  0.181664 -1.657891 -2.257331  0.750528 -0.917839 -0.438653 -0.169717  \n",
      "238186  0.133541  0.244662 -0.827696  0.248202  0.511344  0.212940 -0.305292  \n",
      "150562 -0.116507  0.740024 -1.256918 -0.375422 -0.230441 -0.196713  0.116306  \n",
      "138452  0.401495  0.109633  0.903141  0.508756  0.710805 -0.977550 -0.250239  \n",
      "...          ...       ...       ...       ...       ...       ...       ...  \n",
      "119879  0.258472 -0.010138  0.175424  0.226522 -0.051835  0.012020 -0.345313  \n",
      "259178  0.387264  1.127424 -3.136737 -1.598712  0.163531  0.415216  0.003520  \n",
      "131932 -0.466320  0.665156  0.455388 -0.826308 -0.300123 -0.594382 -0.337477  \n",
      "146867  0.229520  1.120901  0.613320  0.884044  1.231103  1.017386 -0.349231  \n",
      "121958 -0.095352 -0.180094  0.556950 -0.815124  0.003014  0.116904  0.098554  \n",
      "\n",
      "[227845 rows x 30 columns]\n"
     ]
    }
   ],
   "source": [
    "print(X_train)"
   ]
  },
  {
   "cell_type": "code",
   "execution_count": 14,
   "id": "e76a88d3-5bea-408d-874c-7f933ff65171",
   "metadata": {},
   "outputs": [
    {
     "name": "stdout",
     "output_type": "stream",
     "text": [
      "223361    0\n",
      "165061    0\n",
      "238186    0\n",
      "150562    0\n",
      "138452    0\n",
      "         ..\n",
      "119879    0\n",
      "259178    0\n",
      "131932    0\n",
      "146867    0\n",
      "121958    0\n",
      "Name: Class, Length: 227845, dtype: int64\n"
     ]
    }
   ],
   "source": [
    "print(y_train)"
   ]
  },
  {
   "cell_type": "code",
   "execution_count": 15,
   "id": "ca3d33c0-8108-4971-b462-02eeccc8a1f3",
   "metadata": {},
   "outputs": [
    {
     "name": "stdout",
     "output_type": "stream",
     "text": [
      "            Time        V1        V2         V3        V4        V5        V6  \\\n",
      "43428  -1.122574 -8.437520  5.198899 -12.299967  6.713625 -9.993751 -2.126001   \n",
      "49906  -1.064538  0.173489 -1.661561  -0.088422 -0.978715 -1.051563  0.762524   \n",
      "29474  -1.249364  0.714553 -0.357718   0.111208 -0.727435 -0.391095  0.030357   \n",
      "276481  1.522680 -0.220592  0.997935  -1.100978 -0.246848  0.569308 -0.473363   \n",
      "278846  1.551109  1.028319 -0.083203  -0.669967  0.231144 -0.131991 -0.718001   \n",
      "...          ...       ...       ...        ...       ...       ...       ...   \n",
      "75723  -0.812643 -1.018204  0.910235  -0.241094  0.551057 -0.694048  0.029009   \n",
      "252263  1.282683 -0.119757  0.444312   0.320692 -0.507242  0.566731 -0.592101   \n",
      "221246  1.003982  0.020647 -0.066455  -0.835237  0.709660  1.610867 -0.503180   \n",
      "81910  -0.750859 -0.252744  0.600422   1.102444 -0.241883  0.340528 -0.261586   \n",
      "59490  -0.967609 -0.812014  0.600988  -0.338230  0.791566 -1.388708  2.358515   \n",
      "\n",
      "               V7        V8        V9  ...       V20       V21       V22  \\\n",
      "43428  -13.500776  6.294084 -7.743333  ... -1.965076  1.621105 -1.553906   \n",
      "49906   -0.423881  0.187600  0.818971  ...  0.656412 -0.290578 -1.298780   \n",
      "29474   -0.576002  0.001925 -0.884508  ...  0.276133  0.139407  0.231872   \n",
      "276481   0.223904  0.490664 -0.441200  ... -0.317325  0.488660  1.203890   \n",
      "278846   0.034954 -0.134589  0.330631  ... -0.331152 -0.324896 -0.849387   \n",
      "...           ...       ...       ...  ...       ...       ...       ...   \n",
      "75723   -0.366749  1.300761 -0.511513  ... -0.409918  0.306077  0.439955   \n",
      "252263   0.853863 -0.146536 -0.222881  ... -0.165390 -0.275063 -0.792141   \n",
      "221246   0.396626 -0.028249 -0.279486  ... -0.011188  0.464453  1.281578   \n",
      "81910    0.805177 -0.294630 -0.199550  ...  0.550718 -0.442457 -0.653407   \n",
      "59490    1.714071 -3.198096  0.190555  ... -0.761510 -2.481167  0.148886   \n",
      "\n",
      "             V23       V24       V25       V26       V27       V28    Amount  \n",
      "43428  -3.776994  1.111972 -2.711992 -0.959638 -5.001031 -3.159221  1.102834  \n",
      "49906  -0.843641 -1.910343  0.597015 -1.548333  0.101567  0.309128  1.726255  \n",
      "29474  -0.266853 -1.337827  0.968934 -0.481807  0.028265  0.014039 -0.229289  \n",
      "276481 -0.286074 -0.028351 -0.397853 -0.327142 -0.588125  0.005860 -0.347232  \n",
      "278846  0.555752  0.101645 -0.690987  0.362340 -0.193353 -0.213796 -0.349671  \n",
      "...          ...       ...       ...       ...       ...       ...       ...  \n",
      "75723  -0.130283 -0.605475 -0.516769 -0.576845  0.203260 -0.045657 -0.050614  \n",
      "252263 -0.039786 -0.707604 -1.081096  0.331642  0.235174  0.496046 -0.313289  \n",
      "221246  0.260051 -1.948794 -2.847183 -1.283906  0.886562  1.073608 -0.322724  \n",
      "81910  -0.233100 -0.018623 -0.312688  0.042534  0.100411 -0.817297 -0.338876  \n",
      "59490  -5.384933 -1.778109 -1.668124 -0.637977  0.311546 -1.839616  3.270276  \n",
      "\n",
      "[56962 rows x 30 columns]\n"
     ]
    }
   ],
   "source": [
    "print(X_test)"
   ]
  },
  {
   "cell_type": "code",
   "execution_count": 16,
   "id": "c9ce079e-9ca4-4b01-b2aa-302df8cf4983",
   "metadata": {},
   "outputs": [
    {
     "name": "stdout",
     "output_type": "stream",
     "text": [
      "43428     1\n",
      "49906     0\n",
      "29474     0\n",
      "276481    0\n",
      "278846    0\n",
      "         ..\n",
      "75723     0\n",
      "252263    0\n",
      "221246    0\n",
      "81910     0\n",
      "59490     0\n",
      "Name: Class, Length: 56962, dtype: int64\n"
     ]
    }
   ],
   "source": [
    "print(y_test)"
   ]
  },
  {
   "cell_type": "code",
   "execution_count": 17,
   "id": "3cb1226a-f63b-46aa-a561-966280760feb",
   "metadata": {},
   "outputs": [
    {
     "ename": "ValueError",
     "evalue": "Item wrong length 1 instead of 56962.",
     "output_type": "error",
     "traceback": [
      "\u001b[1;31m---------------------------------------------------------------------------\u001b[0m",
      "\u001b[1;31mValueError\u001b[0m                                Traceback (most recent call last)",
      "\u001b[1;32m~\\AppData\\Local\\Temp\\ipykernel_26144\\572090852.py\u001b[0m in \u001b[0;36m?\u001b[1;34m()\u001b[0m\n\u001b[1;32m---> 13\u001b[1;33m \u001b[1;32mimport\u001b[0m \u001b[0mmatplotlib\u001b[0m\u001b[1;33m.\u001b[0m\u001b[0mpyplot\u001b[0m \u001b[1;32mas\u001b[0m \u001b[0mplt\u001b[0m\u001b[1;33m\u001b[0m\u001b[1;33m\u001b[0m\u001b[0m\n\u001b[0m\u001b[0;32m     14\u001b[0m \u001b[1;33m\u001b[0m\u001b[0m\n\u001b[0;32m     15\u001b[0m \u001b[1;31m# Create a scatter plot\u001b[0m\u001b[1;33m\u001b[0m\u001b[1;33m\u001b[0m\u001b[0m\n\u001b[0;32m     16\u001b[0m \u001b[0mplt\u001b[0m\u001b[1;33m.\u001b[0m\u001b[0mfigure\u001b[0m\u001b[1;33m(\u001b[0m\u001b[0mfigsize\u001b[0m\u001b[1;33m=\u001b[0m\u001b[1;33m(\u001b[0m\u001b[1;36m10\u001b[0m\u001b[1;33m,\u001b[0m \u001b[1;36m6\u001b[0m\u001b[1;33m)\u001b[0m\u001b[1;33m)\u001b[0m\u001b[1;33m\u001b[0m\u001b[1;33m\u001b[0m\u001b[0m\n",
      "\u001b[1;32m~\\AppData\\Local\\Programs\\Python\\Python39\\lib\\site-packages\\pandas\\core\\frame.py\u001b[0m in \u001b[0;36m?\u001b[1;34m(self, key)\u001b[0m\n\u001b[0;32m   3748\u001b[0m             \u001b[1;32mreturn\u001b[0m \u001b[0mself\u001b[0m\u001b[1;33m.\u001b[0m\u001b[0mwhere\u001b[0m\u001b[1;33m(\u001b[0m\u001b[0mkey\u001b[0m\u001b[1;33m)\u001b[0m\u001b[1;33m\u001b[0m\u001b[1;33m\u001b[0m\u001b[0m\n\u001b[0;32m   3749\u001b[0m \u001b[1;33m\u001b[0m\u001b[0m\n\u001b[0;32m   3750\u001b[0m         \u001b[1;31m# Do we have a (boolean) 1d indexer?\u001b[0m\u001b[1;33m\u001b[0m\u001b[1;33m\u001b[0m\u001b[0m\n\u001b[0;32m   3751\u001b[0m         \u001b[1;32mif\u001b[0m \u001b[0mcom\u001b[0m\u001b[1;33m.\u001b[0m\u001b[0mis_bool_indexer\u001b[0m\u001b[1;33m(\u001b[0m\u001b[0mkey\u001b[0m\u001b[1;33m)\u001b[0m\u001b[1;33m:\u001b[0m\u001b[1;33m\u001b[0m\u001b[1;33m\u001b[0m\u001b[0m\n\u001b[1;32m-> 3752\u001b[1;33m             \u001b[1;32mreturn\u001b[0m \u001b[0mself\u001b[0m\u001b[1;33m.\u001b[0m\u001b[0m_getitem_bool_array\u001b[0m\u001b[1;33m(\u001b[0m\u001b[0mkey\u001b[0m\u001b[1;33m)\u001b[0m\u001b[1;33m\u001b[0m\u001b[1;33m\u001b[0m\u001b[0m\n\u001b[0m\u001b[0;32m   3753\u001b[0m \u001b[1;33m\u001b[0m\u001b[0m\n\u001b[0;32m   3754\u001b[0m         \u001b[1;31m# We are left with two options: a single key, and a collection of keys,\u001b[0m\u001b[1;33m\u001b[0m\u001b[1;33m\u001b[0m\u001b[0m\n\u001b[0;32m   3755\u001b[0m         \u001b[1;31m# We interpret tuples as collections only for non-MultiIndex\u001b[0m\u001b[1;33m\u001b[0m\u001b[1;33m\u001b[0m\u001b[0m\n",
      "\u001b[1;32m~\\AppData\\Local\\Programs\\Python\\Python39\\lib\\site-packages\\pandas\\core\\frame.py\u001b[0m in \u001b[0;36m?\u001b[1;34m(self, key)\u001b[0m\n\u001b[0;32m   3795\u001b[0m                 \u001b[0mUserWarning\u001b[0m\u001b[1;33m,\u001b[0m\u001b[1;33m\u001b[0m\u001b[1;33m\u001b[0m\u001b[0m\n\u001b[0;32m   3796\u001b[0m                 \u001b[0mstacklevel\u001b[0m\u001b[1;33m=\u001b[0m\u001b[0mfind_stack_level\u001b[0m\u001b[1;33m(\u001b[0m\u001b[1;33m)\u001b[0m\u001b[1;33m,\u001b[0m\u001b[1;33m\u001b[0m\u001b[1;33m\u001b[0m\u001b[0m\n\u001b[0;32m   3797\u001b[0m             )\n\u001b[0;32m   3798\u001b[0m         \u001b[1;32melif\u001b[0m \u001b[0mlen\u001b[0m\u001b[1;33m(\u001b[0m\u001b[0mkey\u001b[0m\u001b[1;33m)\u001b[0m \u001b[1;33m!=\u001b[0m \u001b[0mlen\u001b[0m\u001b[1;33m(\u001b[0m\u001b[0mself\u001b[0m\u001b[1;33m.\u001b[0m\u001b[0mindex\u001b[0m\u001b[1;33m)\u001b[0m\u001b[1;33m:\u001b[0m\u001b[1;33m\u001b[0m\u001b[1;33m\u001b[0m\u001b[0m\n\u001b[1;32m-> 3799\u001b[1;33m             raise ValueError(\n\u001b[0m\u001b[0;32m   3800\u001b[0m                 \u001b[1;34mf\"Item wrong length {len(key)} instead of {len(self.index)}.\"\u001b[0m\u001b[1;33m\u001b[0m\u001b[1;33m\u001b[0m\u001b[0m\n\u001b[0;32m   3801\u001b[0m             )\n\u001b[0;32m   3802\u001b[0m \u001b[1;33m\u001b[0m\u001b[0m\n",
      "\u001b[1;31mValueError\u001b[0m: Item wrong length 1 instead of 56962."
     ]
    },
    {
     "data": {
      "image/png": "[encoded data removed]",
      "text/plain": [
       "<Figure size 1000x600 with 1 Axes>"
      ]
     },
     "metadata": {},
     "output_type": "display_data"
    }
   ],
   "source": [
    "import matplotlib.pyplot as plt\n",
    "\n",
    "# Create a scatter plot\n",
    "plt.figure(figsize=(10, 6))\n",
    "\n",
    "# Plot actual fraud transactions in blue\n",
    "plt.scatter(X_test[y_test == 1]['V1'], X_test[y_test == 1]['V2'], color='blue', label='Actual Fraud')\n",
    "\n",
    "# Plot actual non-fraud transactions in green\n",
    "plt.scatter(X_test[y_test == 0]['V1'], X_test[y_test == 0]['V2'], color='green', label='Actual Non-Fraud')\n",
    "\n",
    "# Plot predicted fraud transactions in red (where the model predicts 1)\n",
    "plt.scatter(X_test[predicted_class == 1]['V1'], X_test[predicted_class == 1]['V2'], color='red', marker='x', label='Predicted Fraud')\n",
    "\n",
    "# Plot predicted non-fraud transactions in yellow (where the model predicts 0)\n",
    "plt.scatter(X_test[predicted_class == 0]['V1'], X_test[predicted_class == 0]['V2'], color='yellow', marker='x', label='Predicted Non-Fraud')\n",
    "\n",
    "plt.title('Scatter Plot of Actual and Predicted Classes')\n",
    "plt.xlabel('V1')\n",
    "plt.ylabel('V2')\n",
    "plt.legend()\n",
    "plt.show()\n"
   ]
  },
  {
   "cell_type": "code",
   "execution_count": null,
   "id": "778e3d79-7a59-4a70-8d02-212a941af162",
   "metadata": {},
   "outputs": [],
   "source": []
  }
 ],
 "metadata": {
  "kernelspec": {
   "display_name": "Python 3 (ipykernel)",
   "language": "python",
   "name": "python3"
  },
  "language_info": {
   "codemirror_mode": {
    "name": "ipython",
    "version": 3
   },
   "file_extension": ".py",
   "mimetype": "text/x-python",
   "name": "python",
   "nbconvert_exporter": "python",
   "pygments_lexer": "ipython3",
   "version": "3.9.7"
  }
 },
 "nbformat": 4,
 "nbformat_minor": 5
}
